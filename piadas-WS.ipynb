{
 "cells": [
  {
   "attachments": {},
   "cell_type": "markdown",
   "metadata": {},
   "source": [
    "# **Web Scraping**"
   ]
  },
  {
   "attachments": {},
   "cell_type": "markdown",
   "metadata": {},
   "source": [
    "Primero projeto pessoal de Web Scraping, focado em aprender sobre a biblioteca BeautifulSoup e HTML. <br>\n",
    "<br>\n",
    "Etapas do projeto:\n",
    "<br>\n",
    "1 - Entrar em contato com o site desejado e salvar seu conteúdo <br>\n",
    "2 - Executar uma busca pelo conteúdo do site e salva o resultado em uma base de dados em formato de lista <br>\n",
    "3 - Salvar base de dados em formato Excel (separando cada bloco de informações do site por linhas vazias) presentar a base como um DataFrame <br>\n",
    "4 - Apresentar a base como um DataFrame "
   ]
  },
  {
   "cell_type": "code",
   "execution_count": 5,
   "metadata": {},
   "outputs": [
    {
     "name": "stdout",
     "output_type": "stream",
     "text": [
      "Note: you may need to restart the kernel to use updated packages.\n"
     ]
    },
    {
     "name": "stderr",
     "output_type": "stream",
     "text": [
      "\n",
      "[notice] A new release of pip is available: 23.0.1 -> 23.1.2\n",
      "[notice] To update, run: C:\\Users\\User\\AppData\\Local\\Microsoft\\WindowsApps\\PythonSoftwareFoundation.Python.3.10_qbz5n2kfra8p0\\python.exe -m pip install --upgrade pip\n"
     ]
    },
    {
     "name": "stdout",
     "output_type": "stream",
     "text": [
      "Note: you may need to restart the kernel to use updated packages.\n"
     ]
    },
    {
     "name": "stderr",
     "output_type": "stream",
     "text": [
      "\n",
      "[notice] A new release of pip is available: 23.0.1 -> 23.1.2\n",
      "[notice] To update, run: C:\\Users\\User\\AppData\\Local\\Microsoft\\WindowsApps\\PythonSoftwareFoundation.Python.3.10_qbz5n2kfra8p0\\python.exe -m pip install --upgrade pip\n"
     ]
    },
    {
     "name": "stdout",
     "output_type": "stream",
     "text": [
      "Note: you may need to restart the kernel to use updated packages.\n"
     ]
    },
    {
     "name": "stderr",
     "output_type": "stream",
     "text": [
      "\n",
      "[notice] A new release of pip is available: 23.0.1 -> 23.1.2\n",
      "[notice] To update, run: C:\\Users\\User\\AppData\\Local\\Microsoft\\WindowsApps\\PythonSoftwareFoundation.Python.3.10_qbz5n2kfra8p0\\python.exe -m pip install --upgrade pip\n"
     ]
    },
    {
     "name": "stdout",
     "output_type": "stream",
     "text": [
      "Note: you may need to restart the kernel to use updated packages.\n"
     ]
    },
    {
     "name": "stderr",
     "output_type": "stream",
     "text": [
      "\n",
      "[notice] A new release of pip is available: 23.0.1 -> 23.1.2\n",
      "[notice] To update, run: C:\\Users\\User\\AppData\\Local\\Microsoft\\WindowsApps\\PythonSoftwareFoundation.Python.3.10_qbz5n2kfra8p0\\python.exe -m pip install --upgrade pip\n"
     ]
    }
   ],
   "source": [
    "# Instalação das bibliotecas\n",
    "%pip install requests --quiet\n",
    "%pip install pandas --quiet\n",
    "%pip install beautifulsoup4 --quiet\n",
    "%pip install openpyxl --quiet\n",
    "\n",
    "# Importando as bibliotecas\n",
    "import requests\n",
    "import pandas as pd\n",
    "from bs4 import BeautifulSoup as bs\n",
    "import re"
   ]
  },
  {
   "attachments": {},
   "cell_type": "markdown",
   "metadata": {},
   "source": [
    "1 - Entrar em contato com o site desejado e salvar seu conteúdo"
   ]
  },
  {
   "cell_type": "code",
   "execution_count": 7,
   "metadata": {},
   "outputs": [],
   "source": [
    "#Configurações Iniciais\n",
    "url = \"https://www.maioresemelhores.com/melhores-piadas-curtas-para-morrer-de-rir/\"\n",
    "#my user agent\n",
    "headers = { \n",
    "    'User-Agent'      : 'Mozilla/5.0 (Windows NT 10.0; Win64; x64) AppleWebKit/537.36 (KHTML, like Gecko) Chrome/103.0.5060.134 Safari/537.36 OPR/89.0.4447.71', \n",
    "    'Accept'          : 'text/html,application/xhtml+xml,application/xml;q=0.9,*/*;q=0.8', \n",
    "    'Accept-Language' : 'en-US,en;q=0.5',\n",
    "    'DNT'             : '1', # Do Not Track Request Header \n",
    "    'Connection'      : 'close'}\n",
    "\n",
    "#salvar informações do html do site\n",
    "site = requests.get(url, headers=headers)\n",
    "soup = bs(site.content, 'html.parser')"
   ]
  },
  {
   "attachments": {},
   "cell_type": "markdown",
   "metadata": {},
   "source": [
    "2 - Executar uma busca pelo conteúdo do site e salvar o resultado em uma base de dados em formato de lista"
   ]
  },
  {
   "cell_type": "code",
   "execution_count": 15,
   "metadata": {},
   "outputs": [],
   "source": [
    "##Criando lista com todos os blocos de informações procuradas dentro do HTML\n",
    "#result = re.match(\"str_pattern\", string)\n",
    "lista_piadas = soup.find_all('blockquote')\n",
    "\n",
    "#definindo variáveis\n",
    "a = lista_piadas[0]\n",
    "b = int(len(lista_piadas))\n",
    "somador=0\n",
    "count = 0\n",
    "bd = []\n",
    "\n",
    "#loop para ler todos os blocos de informação do HTML\n",
    "for i in range(b):\n",
    "    a=lista_piadas[somador]\n",
    "    somador+=1\n",
    "#loop para editar e ler todas as linhas dentro de cada bloco de informação   \n",
    "    for j in range(len(a)):\n",
    "        piadoca = a.contents[count].text\n",
    "        piads = a.contents[count-1].text\n",
    "        count+=1\n",
    "        if piadoca!='\\n' and piads=='\\n':\n",
    "            piadoca.replace('\\n',' ')\n",
    "            bd.append(piadoca) \n",
    "        elif piadoca=='\\n' and piads=='\\n':\n",
    "            bd.append('\\n')\n",
    "            bd.append(f'piada{somador}:')\n",
    "    count=0\n",
    "#bd"
   ]
  },
  {
   "attachments": {},
   "cell_type": "markdown",
   "metadata": {},
   "source": [
    "3 - Salvar base de dados em formato Excel e apresentar DataFrame"
   ]
  },
  {
   "cell_type": "code",
   "execution_count": 16,
   "metadata": {},
   "outputs": [
    {
     "data": {
      "text/html": [
       "<div>\n",
       "<style scoped>\n",
       "    .dataframe tbody tr th:only-of-type {\n",
       "        vertical-align: middle;\n",
       "    }\n",
       "\n",
       "    .dataframe tbody tr th {\n",
       "        vertical-align: top;\n",
       "    }\n",
       "\n",
       "    .dataframe thead th {\n",
       "        text-align: right;\n",
       "    }\n",
       "</style>\n",
       "<table border=\"1\" class=\"dataframe\">\n",
       "  <thead>\n",
       "    <tr style=\"text-align: right;\">\n",
       "      <th></th>\n",
       "      <th>0</th>\n",
       "    </tr>\n",
       "  </thead>\n",
       "  <tbody>\n",
       "    <tr>\n",
       "      <th>1</th>\n",
       "      <td>piada1:</td>\n",
       "    </tr>\n",
       "    <tr>\n",
       "      <th>2</th>\n",
       "      <td>Como deixar alguém curioso?</td>\n",
       "    </tr>\n",
       "    <tr>\n",
       "      <th>3</th>\n",
       "      <td>Eu conto amanhã.</td>\n",
       "    </tr>\n",
       "    <tr>\n",
       "      <th>5</th>\n",
       "      <td>piada2:</td>\n",
       "    </tr>\n",
       "    <tr>\n",
       "      <th>6</th>\n",
       "      <td>Por que os fantasmas são péssimos para contar ...</td>\n",
       "    </tr>\n",
       "    <tr>\n",
       "      <th>...</th>\n",
       "      <td>...</td>\n",
       "    </tr>\n",
       "    <tr>\n",
       "      <th>308</th>\n",
       "      <td>Quando o mosquito vai embora.</td>\n",
       "    </tr>\n",
       "    <tr>\n",
       "      <th>310</th>\n",
       "      <td>piada77:</td>\n",
       "    </tr>\n",
       "    <tr>\n",
       "      <th>311</th>\n",
       "      <td>Por que os bombeiros não conseguem andar? \\n\\n...</td>\n",
       "    </tr>\n",
       "    <tr>\n",
       "      <th>313</th>\n",
       "      <td>piada78:</td>\n",
       "    </tr>\n",
       "    <tr>\n",
       "      <th>314</th>\n",
       "      <td>Qual o animal que já valeu muito, mas que atua...</td>\n",
       "    </tr>\n",
       "  </tbody>\n",
       "</table>\n",
       "<p>237 rows × 1 columns</p>\n",
       "</div>"
      ],
      "text/plain": [
       "                                                     0\n",
       "1                                              piada1:\n",
       "2                          Como deixar alguém curioso?\n",
       "3                                     Eu conto amanhã.\n",
       "5                                              piada2:\n",
       "6    Por que os fantasmas são péssimos para contar ...\n",
       "..                                                 ...\n",
       "308                      Quando o mosquito vai embora.\n",
       "310                                           piada77:\n",
       "311  Por que os bombeiros não conseguem andar? \\n\\n...\n",
       "313                                           piada78:\n",
       "314  Qual o animal que já valeu muito, mas que atua...\n",
       "\n",
       "[237 rows x 1 columns]"
      ]
     },
     "execution_count": 16,
     "metadata": {},
     "output_type": "execute_result"
    }
   ],
   "source": [
    "db = pd.DataFrame(bd)\n",
    "db.to_excel('Piadas.xlsx', index=False, header=False)\n",
    "\n",
    "db_visualizacao = db[db.iloc[:, 0] != '\\n']\n",
    "db_visualizacao"
   ]
  }
 ],
 "metadata": {
  "kernelspec": {
   "display_name": "Python 3.9.12 ('base')",
   "language": "python",
   "name": "python3"
  },
  "language_info": {
   "codemirror_mode": {
    "name": "ipython",
    "version": 3
   },
   "file_extension": ".py",
   "mimetype": "text/x-python",
   "name": "python",
   "nbconvert_exporter": "python",
   "pygments_lexer": "ipython3",
   "version": "3.10.11"
  },
  "orig_nbformat": 4,
  "vscode": {
   "interpreter": {
    "hash": "ad2bdc8ecc057115af97d19610ffacc2b4e99fae6737bb82f5d7fb13d2f2c186"
   }
  }
 },
 "nbformat": 4,
 "nbformat_minor": 2
}
